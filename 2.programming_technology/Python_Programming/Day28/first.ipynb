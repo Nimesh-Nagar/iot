{
 "cells": [
  {
   "cell_type": "code",
   "execution_count": null,
   "id": "937ac1cf-acd7-418b-9764-2493c729d56c",
   "metadata": {},
   "outputs": [],
   "source": []
  },
  {
   "cell_type": "code",
   "execution_count": 1,
   "id": "99b1cec4-f372-4415-b6cd-dfc83e73d5f5",
   "metadata": {},
   "outputs": [
    {
     "name": "stdout",
     "output_type": "stream",
     "text": [
      "Hello\n",
      "hi Sid\n"
     ]
    }
   ],
   "source": [
    "print(\"Hello\")\n",
    "print(\"hi Sid\")"
   ]
  },
  {
   "cell_type": "code",
   "execution_count": 2,
   "id": "cb0b7ae7-1959-4d39-9d78-088d39deaafa",
   "metadata": {},
   "outputs": [],
   "source": [
    "a=10"
   ]
  },
  {
   "cell_type": "code",
   "execution_count": 3,
   "id": "d830768a-9cc4-402a-8f9c-82adf991b0a8",
   "metadata": {},
   "outputs": [
    {
     "name": "stdout",
     "output_type": "stream",
     "text": [
      "Sid\n"
     ]
    }
   ],
   "source": [
    "b=10\n",
    "print(\"Sid\")"
   ]
  },
  {
   "cell_type": "code",
   "execution_count": 4,
   "id": "fc4a4c70-e5bd-42d0-9190-90fd43455ddd",
   "metadata": {},
   "outputs": [
    {
     "data": {
      "text/plain": [
       "20"
      ]
     },
     "execution_count": 4,
     "metadata": {},
     "output_type": "execute_result"
    }
   ],
   "source": [
    "a + b"
   ]
  },
  {
   "cell_type": "code",
   "execution_count": null,
   "id": "1051d40f-1645-4ffe-a5f6-577d092a4e1a",
   "metadata": {},
   "outputs": [],
   "source": []
  },
  {
   "cell_type": "code",
   "execution_count": null,
   "id": "2e8665da-7405-4bf8-b766-4fc570ff3e00",
   "metadata": {},
   "outputs": [],
   "source": []
  }
 ],
 "metadata": {
  "kernelspec": {
   "display_name": "Python 3 (ipykernel)",
   "language": "python",
   "name": "python3"
  },
  "language_info": {
   "codemirror_mode": {
    "name": "ipython",
    "version": 3
   },
   "file_extension": ".py",
   "mimetype": "text/x-python",
   "name": "python",
   "nbconvert_exporter": "python",
   "pygments_lexer": "ipython3",
   "version": "3.9.7"
  }
 },
 "nbformat": 4,
 "nbformat_minor": 5
}
